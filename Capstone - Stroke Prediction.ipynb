{
 "cells": [
  {
   "cell_type": "markdown",
   "id": "4351a4ed",
   "metadata": {},
   "source": [
    "# Capstone Project: Context"
   ]
  },
  {
   "cell_type": "markdown",
   "id": "c9c97a65",
   "metadata": {},
   "source": [
    "Due to confidentiality reasons I cannot use internal company data for this Capstone project, so I am using this data which mirrors a similar data source.\n",
    "\n",
    "The WHO states that strokes are the 2nd leading cause of death globally. This dataset is used to predict whether a patient is likely to get stroke based on the input parameters like gender, age, various diseases and whether they smoke."
   ]
  },
  {
   "cell_type": "code",
   "execution_count": 95,
   "id": "d51a6169",
   "metadata": {},
   "outputs": [],
   "source": [
    "#import relevant libraries\n",
    "import pandas as pd\n",
    "import numpy as np\n",
    "from sklearn.model_selection import train_test_split\n",
    "from sklearn.ensemble import RandomForestClassifier\n",
    "from sklearn.metrics import accuracy_score, confusion_matrix\n",
    "from sklearn.tree import DecisionTreeClassifier\n",
    "from sklearn.svm import SVC\n",
    "from imblearn.over_sampling import SMOTE,RandomOverSampler\n",
    "from imblearn.under_sampling import RandomUnderSampler"
   ]
  },
  {
   "cell_type": "code",
   "execution_count": 44,
   "id": "9736e5a1",
   "metadata": {},
   "outputs": [
    {
     "data": {
      "text/html": [
       "<div>\n",
       "<style scoped>\n",
       "    .dataframe tbody tr th:only-of-type {\n",
       "        vertical-align: middle;\n",
       "    }\n",
       "\n",
       "    .dataframe tbody tr th {\n",
       "        vertical-align: top;\n",
       "    }\n",
       "\n",
       "    .dataframe thead th {\n",
       "        text-align: right;\n",
       "    }\n",
       "</style>\n",
       "<table border=\"1\" class=\"dataframe\">\n",
       "  <thead>\n",
       "    <tr style=\"text-align: right;\">\n",
       "      <th></th>\n",
       "      <th>id</th>\n",
       "      <th>gender</th>\n",
       "      <th>age</th>\n",
       "      <th>hypertension</th>\n",
       "      <th>heart_disease</th>\n",
       "      <th>ever_married</th>\n",
       "      <th>work_type</th>\n",
       "      <th>Residence_type</th>\n",
       "      <th>avg_glucose_level</th>\n",
       "      <th>bmi</th>\n",
       "      <th>smoking_status</th>\n",
       "      <th>stroke</th>\n",
       "    </tr>\n",
       "  </thead>\n",
       "  <tbody>\n",
       "    <tr>\n",
       "      <th>0</th>\n",
       "      <td>9046</td>\n",
       "      <td>Male</td>\n",
       "      <td>67.0</td>\n",
       "      <td>0</td>\n",
       "      <td>1</td>\n",
       "      <td>Yes</td>\n",
       "      <td>Private</td>\n",
       "      <td>Urban</td>\n",
       "      <td>228.69</td>\n",
       "      <td>36.6</td>\n",
       "      <td>formerly smoked</td>\n",
       "      <td>1</td>\n",
       "    </tr>\n",
       "    <tr>\n",
       "      <th>1</th>\n",
       "      <td>51676</td>\n",
       "      <td>Female</td>\n",
       "      <td>61.0</td>\n",
       "      <td>0</td>\n",
       "      <td>0</td>\n",
       "      <td>Yes</td>\n",
       "      <td>Self-employed</td>\n",
       "      <td>Rural</td>\n",
       "      <td>202.21</td>\n",
       "      <td>NaN</td>\n",
       "      <td>never smoked</td>\n",
       "      <td>1</td>\n",
       "    </tr>\n",
       "    <tr>\n",
       "      <th>2</th>\n",
       "      <td>31112</td>\n",
       "      <td>Male</td>\n",
       "      <td>80.0</td>\n",
       "      <td>0</td>\n",
       "      <td>1</td>\n",
       "      <td>Yes</td>\n",
       "      <td>Private</td>\n",
       "      <td>Rural</td>\n",
       "      <td>105.92</td>\n",
       "      <td>32.5</td>\n",
       "      <td>never smoked</td>\n",
       "      <td>1</td>\n",
       "    </tr>\n",
       "    <tr>\n",
       "      <th>3</th>\n",
       "      <td>60182</td>\n",
       "      <td>Female</td>\n",
       "      <td>49.0</td>\n",
       "      <td>0</td>\n",
       "      <td>0</td>\n",
       "      <td>Yes</td>\n",
       "      <td>Private</td>\n",
       "      <td>Urban</td>\n",
       "      <td>171.23</td>\n",
       "      <td>34.4</td>\n",
       "      <td>smokes</td>\n",
       "      <td>1</td>\n",
       "    </tr>\n",
       "    <tr>\n",
       "      <th>4</th>\n",
       "      <td>1665</td>\n",
       "      <td>Female</td>\n",
       "      <td>79.0</td>\n",
       "      <td>1</td>\n",
       "      <td>0</td>\n",
       "      <td>Yes</td>\n",
       "      <td>Self-employed</td>\n",
       "      <td>Rural</td>\n",
       "      <td>174.12</td>\n",
       "      <td>24.0</td>\n",
       "      <td>never smoked</td>\n",
       "      <td>1</td>\n",
       "    </tr>\n",
       "  </tbody>\n",
       "</table>\n",
       "</div>"
      ],
      "text/plain": [
       "      id  gender   age  hypertension  heart_disease ever_married  \\\n",
       "0   9046    Male  67.0             0              1          Yes   \n",
       "1  51676  Female  61.0             0              0          Yes   \n",
       "2  31112    Male  80.0             0              1          Yes   \n",
       "3  60182  Female  49.0             0              0          Yes   \n",
       "4   1665  Female  79.0             1              0          Yes   \n",
       "\n",
       "       work_type Residence_type  avg_glucose_level   bmi   smoking_status  \\\n",
       "0        Private          Urban             228.69  36.6  formerly smoked   \n",
       "1  Self-employed          Rural             202.21   NaN     never smoked   \n",
       "2        Private          Rural             105.92  32.5     never smoked   \n",
       "3        Private          Urban             171.23  34.4           smokes   \n",
       "4  Self-employed          Rural             174.12  24.0     never smoked   \n",
       "\n",
       "   stroke  \n",
       "0       1  \n",
       "1       1  \n",
       "2       1  \n",
       "3       1  \n",
       "4       1  "
      ]
     },
     "execution_count": 44,
     "metadata": {},
     "output_type": "execute_result"
    }
   ],
   "source": [
    "#Read dataset and view head\n",
    "df = pd.read_csv('healthcare-dataset-stroke-data.csv')\n",
    "df.head()"
   ]
  },
  {
   "cell_type": "code",
   "execution_count": 45,
   "id": "38f43181",
   "metadata": {},
   "outputs": [
    {
     "name": "stdout",
     "output_type": "stream",
     "text": [
      "<class 'pandas.core.frame.DataFrame'>\n",
      "RangeIndex: 5110 entries, 0 to 5109\n",
      "Data columns (total 12 columns):\n",
      " #   Column             Non-Null Count  Dtype  \n",
      "---  ------             --------------  -----  \n",
      " 0   id                 5110 non-null   int64  \n",
      " 1   gender             5110 non-null   object \n",
      " 2   age                5110 non-null   float64\n",
      " 3   hypertension       5110 non-null   int64  \n",
      " 4   heart_disease      5110 non-null   int64  \n",
      " 5   ever_married       5110 non-null   object \n",
      " 6   work_type          5110 non-null   object \n",
      " 7   Residence_type     5110 non-null   object \n",
      " 8   avg_glucose_level  5110 non-null   float64\n",
      " 9   bmi                4909 non-null   float64\n",
      " 10  smoking_status     5110 non-null   object \n",
      " 11  stroke             5110 non-null   int64  \n",
      "dtypes: float64(3), int64(4), object(5)\n",
      "memory usage: 479.2+ KB\n"
     ]
    }
   ],
   "source": [
    "#view information\n",
    "df.info()"
   ]
  },
  {
   "cell_type": "code",
   "execution_count": 103,
   "id": "596e3ffa",
   "metadata": {},
   "outputs": [
    {
     "data": {
      "text/plain": [
       "0    4860\n",
       "1     249\n",
       "Name: stroke, dtype: int64"
      ]
     },
     "execution_count": 103,
     "metadata": {},
     "output_type": "execute_result"
    }
   ],
   "source": [
    "#Checking target value occurance\n",
    "df['stroke'].value_counts()"
   ]
  },
  {
   "cell_type": "markdown",
   "id": "019df6c7",
   "metadata": {},
   "source": [
    "As you can see from the above, the data is unbalanced - there are far more cases of stroke than non-stroke. Therefore we are going to rebalance the data slightly, and will use Smote inbalancing technique to address this later. "
   ]
  },
  {
   "cell_type": "markdown",
   "id": "4f15f8c4",
   "metadata": {},
   "source": [
    "# Data Preprocessing"
   ]
  },
  {
   "cell_type": "code",
   "execution_count": 53,
   "id": "83258f03",
   "metadata": {},
   "outputs": [
    {
     "data": {
      "text/html": [
       "<div>\n",
       "<style scoped>\n",
       "    .dataframe tbody tr th:only-of-type {\n",
       "        vertical-align: middle;\n",
       "    }\n",
       "\n",
       "    .dataframe tbody tr th {\n",
       "        vertical-align: top;\n",
       "    }\n",
       "\n",
       "    .dataframe thead th {\n",
       "        text-align: right;\n",
       "    }\n",
       "</style>\n",
       "<table border=\"1\" class=\"dataframe\">\n",
       "  <thead>\n",
       "    <tr style=\"text-align: right;\">\n",
       "      <th></th>\n",
       "      <th>gender</th>\n",
       "      <th>age</th>\n",
       "      <th>hypertension</th>\n",
       "      <th>heart_disease</th>\n",
       "      <th>ever_married</th>\n",
       "      <th>Residence_type</th>\n",
       "      <th>avg_glucose_level</th>\n",
       "      <th>bmi</th>\n",
       "      <th>work_type_Govt_job</th>\n",
       "      <th>work_type_Never_worked</th>\n",
       "      <th>work_type_Private</th>\n",
       "      <th>work_type_Self-employed</th>\n",
       "      <th>work_type_children</th>\n",
       "      <th>smoking_status_Unknown</th>\n",
       "      <th>smoking_status_formerly smoked</th>\n",
       "      <th>smoking_status_never smoked</th>\n",
       "      <th>smoking_status_smokes</th>\n",
       "      <th>stroke</th>\n",
       "    </tr>\n",
       "  </thead>\n",
       "  <tbody>\n",
       "    <tr>\n",
       "      <th>0</th>\n",
       "      <td>0</td>\n",
       "      <td>67.0</td>\n",
       "      <td>0</td>\n",
       "      <td>1</td>\n",
       "      <td>1</td>\n",
       "      <td>0</td>\n",
       "      <td>228.69</td>\n",
       "      <td>36.6</td>\n",
       "      <td>0</td>\n",
       "      <td>0</td>\n",
       "      <td>1</td>\n",
       "      <td>0</td>\n",
       "      <td>0</td>\n",
       "      <td>0</td>\n",
       "      <td>1</td>\n",
       "      <td>0</td>\n",
       "      <td>0</td>\n",
       "      <td>1</td>\n",
       "    </tr>\n",
       "    <tr>\n",
       "      <th>1</th>\n",
       "      <td>1</td>\n",
       "      <td>61.0</td>\n",
       "      <td>0</td>\n",
       "      <td>0</td>\n",
       "      <td>1</td>\n",
       "      <td>1</td>\n",
       "      <td>202.21</td>\n",
       "      <td>27.8</td>\n",
       "      <td>0</td>\n",
       "      <td>0</td>\n",
       "      <td>0</td>\n",
       "      <td>1</td>\n",
       "      <td>0</td>\n",
       "      <td>0</td>\n",
       "      <td>0</td>\n",
       "      <td>1</td>\n",
       "      <td>0</td>\n",
       "      <td>1</td>\n",
       "    </tr>\n",
       "    <tr>\n",
       "      <th>2</th>\n",
       "      <td>0</td>\n",
       "      <td>80.0</td>\n",
       "      <td>0</td>\n",
       "      <td>1</td>\n",
       "      <td>1</td>\n",
       "      <td>1</td>\n",
       "      <td>105.92</td>\n",
       "      <td>32.5</td>\n",
       "      <td>0</td>\n",
       "      <td>0</td>\n",
       "      <td>1</td>\n",
       "      <td>0</td>\n",
       "      <td>0</td>\n",
       "      <td>0</td>\n",
       "      <td>0</td>\n",
       "      <td>1</td>\n",
       "      <td>0</td>\n",
       "      <td>1</td>\n",
       "    </tr>\n",
       "    <tr>\n",
       "      <th>3</th>\n",
       "      <td>1</td>\n",
       "      <td>49.0</td>\n",
       "      <td>0</td>\n",
       "      <td>0</td>\n",
       "      <td>1</td>\n",
       "      <td>0</td>\n",
       "      <td>171.23</td>\n",
       "      <td>34.4</td>\n",
       "      <td>0</td>\n",
       "      <td>0</td>\n",
       "      <td>1</td>\n",
       "      <td>0</td>\n",
       "      <td>0</td>\n",
       "      <td>0</td>\n",
       "      <td>0</td>\n",
       "      <td>0</td>\n",
       "      <td>1</td>\n",
       "      <td>1</td>\n",
       "    </tr>\n",
       "    <tr>\n",
       "      <th>4</th>\n",
       "      <td>1</td>\n",
       "      <td>79.0</td>\n",
       "      <td>1</td>\n",
       "      <td>0</td>\n",
       "      <td>1</td>\n",
       "      <td>1</td>\n",
       "      <td>174.12</td>\n",
       "      <td>24.0</td>\n",
       "      <td>0</td>\n",
       "      <td>0</td>\n",
       "      <td>0</td>\n",
       "      <td>1</td>\n",
       "      <td>0</td>\n",
       "      <td>0</td>\n",
       "      <td>0</td>\n",
       "      <td>1</td>\n",
       "      <td>0</td>\n",
       "      <td>1</td>\n",
       "    </tr>\n",
       "  </tbody>\n",
       "</table>\n",
       "</div>"
      ],
      "text/plain": [
       "   gender   age  hypertension  heart_disease  ever_married  Residence_type  \\\n",
       "0       0  67.0             0              1             1               0   \n",
       "1       1  61.0             0              0             1               1   \n",
       "2       0  80.0             0              1             1               1   \n",
       "3       1  49.0             0              0             1               0   \n",
       "4       1  79.0             1              0             1               1   \n",
       "\n",
       "   avg_glucose_level   bmi  work_type_Govt_job  work_type_Never_worked  \\\n",
       "0             228.69  36.6                   0                       0   \n",
       "1             202.21  27.8                   0                       0   \n",
       "2             105.92  32.5                   0                       0   \n",
       "3             171.23  34.4                   0                       0   \n",
       "4             174.12  24.0                   0                       0   \n",
       "\n",
       "   work_type_Private  work_type_Self-employed  work_type_children  \\\n",
       "0                  1                        0                   0   \n",
       "1                  0                        1                   0   \n",
       "2                  1                        0                   0   \n",
       "3                  1                        0                   0   \n",
       "4                  0                        1                   0   \n",
       "\n",
       "   smoking_status_Unknown  smoking_status_formerly smoked  \\\n",
       "0                       0                               1   \n",
       "1                       0                               0   \n",
       "2                       0                               0   \n",
       "3                       0                               0   \n",
       "4                       0                               0   \n",
       "\n",
       "   smoking_status_never smoked  smoking_status_smokes  stroke  \n",
       "0                            0                      0       1  \n",
       "1                            1                      0       1  \n",
       "2                            1                      0       1  \n",
       "3                            0                      1       1  \n",
       "4                            1                      0       1  "
      ]
     },
     "execution_count": 53,
     "metadata": {},
     "output_type": "execute_result"
    }
   ],
   "source": [
    "df = pd.read_csv('healthcare-dataset-stroke-data.csv')\n",
    "df.head()\n",
    "\n",
    "#Data preprocessing needed\n",
    "\n",
    "#There are null values for BMI - going to fill with median value of bmi for each gender\n",
    "male_df = df[df['gender'] == 'Male']\n",
    "female_df = df[df['gender'] == 'Female']  \n",
    "median_bmi_male = male_df['bmi'].median()\n",
    "median_bmi_female = female_df['bmi'].median()\n",
    "df.loc[df['gender'] == 'Male', 'bmi'] = df.loc[df['gender'] == 'Male', 'bmi'].fillna(median_bmi_male)\n",
    "df.loc[df['gender'] == 'Female', 'bmi'] = df.loc[df['gender'] == 'Female', 'bmi'].fillna(median_bmi_female)\n",
    "\n",
    "#remove rows with gender = 'Other' as it is only one row\n",
    "df = df[df['gender'] != 'Other']\n",
    "\n",
    "#drop id column as it is not useful\n",
    "df = df.drop('id', axis=1)\n",
    "\n",
    "#Binary encoding of columns with two unique values\n",
    "df['gender'] = df['gender'].map({'Male': 0, 'Female': 1})\n",
    "df['ever_married'] = df['ever_married'].map({'No': 0, 'Yes': 1})\n",
    "df['Residence_type'] = df['Residence_type'].map({'Urban': 0, 'Rural': 1})\n",
    "\n",
    "#One-hot encoding of other columns (work type and smoking_status)\n",
    "df_e = pd.get_dummies(df, columns=['work_type', 'smoking_status'])\n",
    "\n",
    "# Insert the 'stroke' column back into the DataFrame at the last position\n",
    "stroke_column = df_e.pop('stroke')\n",
    "df_e['stroke'] = stroke_column\n",
    "\n",
    "#View new dataframe\n",
    "df_e.head()\n",
    "        "
   ]
  },
  {
   "cell_type": "markdown",
   "id": "d28152a3",
   "metadata": {},
   "source": [
    "# Models / Algorithms"
   ]
  },
  {
   "cell_type": "markdown",
   "id": "38c4f680",
   "metadata": {},
   "source": [
    "Before splitting the data into a training set, a test set, and a validation set, we need to divide the data into two arrays: the first one, X, a 2D array containing all the predictors and the second, y, a 1D array with the response"
   ]
  },
  {
   "cell_type": "code",
   "execution_count": 65,
   "id": "98d026c0",
   "metadata": {},
   "outputs": [],
   "source": [
    "#Splitting data into two arrays, one containing predictors and the other with the response\n",
    "Xy = np.array(df_e)\n",
    "X=Xy[:,:-1]\n",
    "y=Xy[:,-1]"
   ]
  },
  {
   "cell_type": "markdown",
   "id": "ff07730e",
   "metadata": {},
   "source": [
    "Trying a random forest algorithm with a test/train split of 70/30. First I will try this without smote rebalancing, to check the result of the confusion matrix."
   ]
  },
  {
   "cell_type": "code",
   "execution_count": 105,
   "id": "840d1125",
   "metadata": {},
   "outputs": [
    {
     "name": "stdout",
     "output_type": "stream",
     "text": [
      "Accuracy: 0.9412915851272016\n",
      "Confusion Matrix:\n",
      "[[1443    1]\n",
      " [  89    0]]\n"
     ]
    }
   ],
   "source": [
    "#Now split the data to test/train.\n",
    "X_train, X_test, y_train, y_test = train_test_split(X, y, test_size=0.3, random_state=42)\n",
    "\n",
    "#Initialize Random Forest classifier\n",
    "rf_classifier = RandomForestClassifier(n_estimators=100, random_state=42)\n",
    "\n",
    "#Fit the classifier to the training data\n",
    "rf_classifier.fit(X_train, y_train)\n",
    "\n",
    "#Predict classes for the test set\n",
    "y_pred = rf_classifier.predict(X_test)\n",
    "\n",
    "#Evaluate the model\n",
    "accuracy = accuracy_score(y_test, y_pred)\n",
    "print(\"Accuracy:\", accuracy)\n",
    "\n",
    "conf_matrix = confusion_matrix(y_test, y_pred)\n",
    "print(\"Confusion Matrix:\")\n",
    "print(conf_matrix)"
   ]
  },
  {
   "cell_type": "markdown",
   "id": "7b0da320",
   "metadata": {},
   "source": [
    "As you can see above, without smote rebalancing the models looks as though it is accurate with a score of 0.94, however it is not predicting hardly any cases of a stroke, so this model is not useful. \n",
    "\n",
    "Now we will try a random forest algorithm with a smote rebalancing."
   ]
  },
  {
   "cell_type": "code",
   "execution_count": 111,
   "id": "e5929a6f",
   "metadata": {},
   "outputs": [
    {
     "name": "stdout",
     "output_type": "stream",
     "text": [
      "Accuracy: 0.9525316455696202\n",
      "Confusion Matrix:\n",
      "[[1444    2]\n",
      " [  88  362]]\n"
     ]
    }
   ],
   "source": [
    "smote = SMOTE(sampling_strategy=0.3, random_state=42)\n",
    "X_resampled, y_resampled = smote.fit_resample(X, y)\n",
    "\n",
    "# Split the resampled data into training and testing sets (80% train, 20% test)\n",
    "X_train, X_test, y_train, y_test = train_test_split(X_resampled, y_resampled, test_size=0.3, random_state=42)\n",
    "\n",
    "#Initialize Random Forest classifier\n",
    "rf_classifier = RandomForestClassifier(n_estimators=100, random_state=42)\n",
    "\n",
    "#Fit the classifier to the training data\n",
    "rf_classifier.fit(X_train, y_train)\n",
    "\n",
    "#Predict classes for the test set\n",
    "y_pred = rf_classifier.predict(X_test)\n",
    "\n",
    "#Evaluate the model\n",
    "accuracy = accuracy_score(y_test, y_pred)\n",
    "print(\"Accuracy:\", accuracy)\n",
    "\n",
    "conf_matrix = confusion_matrix(y_test, y_pred)\n",
    "print(\"Confusion Matrix:\")\n",
    "print(conf_matrix)"
   ]
  },
  {
   "cell_type": "markdown",
   "id": "f3c61d10",
   "metadata": {},
   "source": [
    "As you can see above, as we adjusted the data to increase the number of cases of strokes, the data is now predicting more stroke cases and thus will be more useful to use. \n",
    "\n",
    "We will now also trial a support vector machine with smote rebalancing."
   ]
  },
  {
   "cell_type": "code",
   "execution_count": 106,
   "id": "eb5d65b4",
   "metadata": {},
   "outputs": [
    {
     "name": "stdout",
     "output_type": "stream",
     "text": [
      "Accuracy: 0.7648442092886537\n",
      "Confusion Matrix:\n",
      "[[1230  486]\n",
      " [ 314 1372]]\n"
     ]
    }
   ],
   "source": [
    "smote = SMOTE()\n",
    "X_resampled, y_resampled = smote.fit_resample(X, y)\n",
    "\n",
    "# Split the resampled data into training and testing sets (80% train, 20% test)\n",
    "X_train, X_test, y_train, y_test = train_test_split(X_resampled, y_resampled, test_size=0.35, random_state=42)\n",
    "\n",
    "#Initialize Support Vector Machine classifier\n",
    "svm_classifier = SVC(kernel='rbf', random_state=42)\n",
    "\n",
    "#Fit the classifier to the training data\n",
    "svm_classifier.fit(X_train, y_train)\n",
    "\n",
    "#Predict classes for the test set\n",
    "y_pred = svm_classifier.predict(X_test)\n",
    "\n",
    "#Evaluate the model\n",
    "accuracy = accuracy_score(y_test, y_pred)\n",
    "print(\"Accuracy:\", accuracy)\n",
    "\n",
    "conf_matrix = confusion_matrix(y_test, y_pred)\n",
    "print(\"Confusion Matrix:\")\n",
    "print(conf_matrix)"
   ]
  },
  {
   "cell_type": "markdown",
   "id": "e5b848f4",
   "metadata": {},
   "source": [
    "As you can see above, SVF performed more poorly than random forest. Even after varying the kernel the accuracy was always worse than the random forst algorithm. "
   ]
  },
  {
   "cell_type": "markdown",
   "id": "ae8f03f1",
   "metadata": {},
   "source": [
    "# Conclusion"
   ]
  },
  {
   "cell_type": "markdown",
   "id": "c8fef906",
   "metadata": {},
   "source": [
    "We ended with a result of 95% accuracy, utilising a random forest algorithm. It was important to rebalance the data using Smote rebalancing, as without this the algorithm failed to predict many cases of strokes. An SVM algorithm was also trialled, but this performed more poorly than the random forst algorithm. "
   ]
  }
 ],
 "metadata": {
  "kernelspec": {
   "display_name": "Python 3",
   "language": "python",
   "name": "python3"
  },
  "language_info": {
   "codemirror_mode": {
    "name": "ipython",
    "version": 3
   },
   "file_extension": ".py",
   "mimetype": "text/x-python",
   "name": "python",
   "nbconvert_exporter": "python",
   "pygments_lexer": "ipython3",
   "version": "3.8.8"
  }
 },
 "nbformat": 4,
 "nbformat_minor": 5
}
